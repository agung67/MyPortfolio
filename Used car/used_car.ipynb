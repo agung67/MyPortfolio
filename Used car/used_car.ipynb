{
 "cells": [
  {
   "cell_type": "code",
   "execution_count": 2,
   "metadata": {},
   "outputs": [],
   "source": [
    "import numpy as np\n",
    "import pandas as pd\n",
    "import seaborn as sns\n",
    "import matplotlib.pyplot as plt"
   ]
  },
  {
   "cell_type": "code",
   "execution_count": 3,
   "metadata": {},
   "outputs": [],
   "source": [
    "df = pd.read_csv('used_cars.csv')"
   ]
  },
  {
   "cell_type": "code",
   "execution_count": 4,
   "metadata": {},
   "outputs": [
    {
     "data": {
      "text/html": [
       "<div>\n",
       "<style scoped>\n",
       "    .dataframe tbody tr th:only-of-type {\n",
       "        vertical-align: middle;\n",
       "    }\n",
       "\n",
       "    .dataframe tbody tr th {\n",
       "        vertical-align: top;\n",
       "    }\n",
       "\n",
       "    .dataframe thead th {\n",
       "        text-align: right;\n",
       "    }\n",
       "</style>\n",
       "<table border=\"1\" class=\"dataframe\">\n",
       "  <thead>\n",
       "    <tr style=\"text-align: right;\">\n",
       "      <th></th>\n",
       "      <th>Unnamed: 0</th>\n",
       "      <th>id</th>\n",
       "      <th>url</th>\n",
       "      <th>region</th>\n",
       "      <th>region_url</th>\n",
       "      <th>price</th>\n",
       "      <th>year</th>\n",
       "      <th>manufacturer</th>\n",
       "      <th>model</th>\n",
       "      <th>condition</th>\n",
       "      <th>...</th>\n",
       "      <th>drive</th>\n",
       "      <th>size</th>\n",
       "      <th>type</th>\n",
       "      <th>paint_color</th>\n",
       "      <th>image_url</th>\n",
       "      <th>description</th>\n",
       "      <th>county</th>\n",
       "      <th>state</th>\n",
       "      <th>lat</th>\n",
       "      <th>long</th>\n",
       "    </tr>\n",
       "  </thead>\n",
       "  <tbody>\n",
       "    <tr>\n",
       "      <th>0</th>\n",
       "      <td>0</td>\n",
       "      <td>7034441763</td>\n",
       "      <td>https://saltlakecity.craigslist.org/cto/d/salt...</td>\n",
       "      <td>salt lake city</td>\n",
       "      <td>https://saltlakecity.craigslist.org</td>\n",
       "      <td>17899</td>\n",
       "      <td>2012.0</td>\n",
       "      <td>volkswagen</td>\n",
       "      <td>golf r</td>\n",
       "      <td>excellent</td>\n",
       "      <td>...</td>\n",
       "      <td>4wd</td>\n",
       "      <td>compact</td>\n",
       "      <td>hatchback</td>\n",
       "      <td>black</td>\n",
       "      <td>https://images.craigslist.org/00G0G_fTLDWM5Xyv...</td>\n",
       "      <td>PRICE REDUCED!   -Garage kept -Low Miles (63K)...</td>\n",
       "      <td>NaN</td>\n",
       "      <td>ut</td>\n",
       "      <td>40.7372</td>\n",
       "      <td>-111.858</td>\n",
       "    </tr>\n",
       "    <tr>\n",
       "      <th>1</th>\n",
       "      <td>1</td>\n",
       "      <td>7034440610</td>\n",
       "      <td>https://saltlakecity.craigslist.org/ctd/d/sand...</td>\n",
       "      <td>salt lake city</td>\n",
       "      <td>https://saltlakecity.craigslist.org</td>\n",
       "      <td>0</td>\n",
       "      <td>2016.0</td>\n",
       "      <td>ford</td>\n",
       "      <td>f-150</td>\n",
       "      <td>excellent</td>\n",
       "      <td>...</td>\n",
       "      <td>4wd</td>\n",
       "      <td>NaN</td>\n",
       "      <td>NaN</td>\n",
       "      <td>NaN</td>\n",
       "      <td>https://images.craigslist.org/00v0v_7Cu0buIofU...</td>\n",
       "      <td>Drive it home today. Call (Or Text) us now !!C...</td>\n",
       "      <td>NaN</td>\n",
       "      <td>ut</td>\n",
       "      <td>40.5881</td>\n",
       "      <td>-111.884</td>\n",
       "    </tr>\n",
       "    <tr>\n",
       "      <th>2</th>\n",
       "      <td>2</td>\n",
       "      <td>7034440588</td>\n",
       "      <td>https://saltlakecity.craigslist.org/ctd/d/sand...</td>\n",
       "      <td>salt lake city</td>\n",
       "      <td>https://saltlakecity.craigslist.org</td>\n",
       "      <td>46463</td>\n",
       "      <td>2015.0</td>\n",
       "      <td>gmc</td>\n",
       "      <td>sierra 1500</td>\n",
       "      <td>excellent</td>\n",
       "      <td>...</td>\n",
       "      <td>4wd</td>\n",
       "      <td>NaN</td>\n",
       "      <td>NaN</td>\n",
       "      <td>white</td>\n",
       "      <td>https://images.craigslist.org/01515_lPvJ9bfbdY...</td>\n",
       "      <td>Drive it home today. Call (Or Text) us now !!C...</td>\n",
       "      <td>NaN</td>\n",
       "      <td>ut</td>\n",
       "      <td>40.5881</td>\n",
       "      <td>-111.884</td>\n",
       "    </tr>\n",
       "    <tr>\n",
       "      <th>3</th>\n",
       "      <td>3</td>\n",
       "      <td>7034440546</td>\n",
       "      <td>https://saltlakecity.craigslist.org/ctd/d/sand...</td>\n",
       "      <td>salt lake city</td>\n",
       "      <td>https://saltlakecity.craigslist.org</td>\n",
       "      <td>0</td>\n",
       "      <td>2016.0</td>\n",
       "      <td>ford</td>\n",
       "      <td>f-150</td>\n",
       "      <td>excellent</td>\n",
       "      <td>...</td>\n",
       "      <td>4wd</td>\n",
       "      <td>NaN</td>\n",
       "      <td>NaN</td>\n",
       "      <td>NaN</td>\n",
       "      <td>https://images.craigslist.org/00T0T_6Rjfp3NS4O...</td>\n",
       "      <td>Drive it home today. Call (Or Text) us now !!C...</td>\n",
       "      <td>NaN</td>\n",
       "      <td>ut</td>\n",
       "      <td>40.5881</td>\n",
       "      <td>-111.884</td>\n",
       "    </tr>\n",
       "    <tr>\n",
       "      <th>4</th>\n",
       "      <td>4</td>\n",
       "      <td>7034406932</td>\n",
       "      <td>https://saltlakecity.craigslist.org/ctd/d/evan...</td>\n",
       "      <td>salt lake city</td>\n",
       "      <td>https://saltlakecity.craigslist.org</td>\n",
       "      <td>49999</td>\n",
       "      <td>2018.0</td>\n",
       "      <td>ford</td>\n",
       "      <td>f-450</td>\n",
       "      <td>NaN</td>\n",
       "      <td>...</td>\n",
       "      <td>4wd</td>\n",
       "      <td>NaN</td>\n",
       "      <td>pickup</td>\n",
       "      <td>white</td>\n",
       "      <td>https://images.craigslist.org/00W0W_8yIUwRBXXd...</td>\n",
       "      <td>2018 Ford F-350 F350 F 350 SD Lariat Crew Cab ...</td>\n",
       "      <td>NaN</td>\n",
       "      <td>ut</td>\n",
       "      <td>40.3744</td>\n",
       "      <td>-104.694</td>\n",
       "    </tr>\n",
       "    <tr>\n",
       "      <th>...</th>\n",
       "      <td>...</td>\n",
       "      <td>...</td>\n",
       "      <td>...</td>\n",
       "      <td>...</td>\n",
       "      <td>...</td>\n",
       "      <td>...</td>\n",
       "      <td>...</td>\n",
       "      <td>...</td>\n",
       "      <td>...</td>\n",
       "      <td>...</td>\n",
       "      <td>...</td>\n",
       "      <td>...</td>\n",
       "      <td>...</td>\n",
       "      <td>...</td>\n",
       "      <td>...</td>\n",
       "      <td>...</td>\n",
       "      <td>...</td>\n",
       "      <td>...</td>\n",
       "      <td>...</td>\n",
       "      <td>...</td>\n",
       "      <td>...</td>\n",
       "    </tr>\n",
       "    <tr>\n",
       "      <th>19996</th>\n",
       "      <td>19996</td>\n",
       "      <td>7049052853</td>\n",
       "      <td>https://kpr.craigslist.org/ctd/d/pasco-diesels...</td>\n",
       "      <td>kennewick-pasco-richland</td>\n",
       "      <td>https://kpr.craigslist.org</td>\n",
       "      <td>49999</td>\n",
       "      <td>2016.0</td>\n",
       "      <td>ram</td>\n",
       "      <td>cummin 2500 laramie</td>\n",
       "      <td>NaN</td>\n",
       "      <td>...</td>\n",
       "      <td>4wd</td>\n",
       "      <td>NaN</td>\n",
       "      <td>truck</td>\n",
       "      <td>grey</td>\n",
       "      <td>https://images.craigslist.org/00h0h_d5xQ6Q7Ygd...</td>\n",
       "      <td>Call or Text 509-412-3404  2016 Dodge Ram 2500...</td>\n",
       "      <td>NaN</td>\n",
       "      <td>wa</td>\n",
       "      <td>46.2348</td>\n",
       "      <td>-119.128</td>\n",
       "    </tr>\n",
       "    <tr>\n",
       "      <th>19997</th>\n",
       "      <td>19997</td>\n",
       "      <td>7049052797</td>\n",
       "      <td>https://kpr.craigslist.org/ctd/d/yakima-2018-n...</td>\n",
       "      <td>kennewick-pasco-richland</td>\n",
       "      <td>https://kpr.craigslist.org</td>\n",
       "      <td>12127</td>\n",
       "      <td>2018.0</td>\n",
       "      <td>nissan</td>\n",
       "      <td>sentra</td>\n",
       "      <td>NaN</td>\n",
       "      <td>...</td>\n",
       "      <td>fwd</td>\n",
       "      <td>NaN</td>\n",
       "      <td>sedan</td>\n",
       "      <td>NaN</td>\n",
       "      <td>https://images.craigslist.org/00Y0Y_cuQ8XIP5R4...</td>\n",
       "      <td>Bud Clary Toyota of YakimaÂ Â Â Â Â Â Â Â STOC...</td>\n",
       "      <td>NaN</td>\n",
       "      <td>wa</td>\n",
       "      <td>46.5642</td>\n",
       "      <td>-120.496</td>\n",
       "    </tr>\n",
       "    <tr>\n",
       "      <th>19998</th>\n",
       "      <td>19998</td>\n",
       "      <td>7049049369</td>\n",
       "      <td>https://kpr.craigslist.org/ctd/d/walla-walla-2...</td>\n",
       "      <td>kennewick-pasco-richland</td>\n",
       "      <td>https://kpr.craigslist.org</td>\n",
       "      <td>0</td>\n",
       "      <td>2019.0</td>\n",
       "      <td>jeep</td>\n",
       "      <td>grand cherokee limited</td>\n",
       "      <td>NaN</td>\n",
       "      <td>...</td>\n",
       "      <td>4wd</td>\n",
       "      <td>NaN</td>\n",
       "      <td>SUV</td>\n",
       "      <td>NaN</td>\n",
       "      <td>https://images.craigslist.org/00h0h_gvXVsydGQd...</td>\n",
       "      <td>Chrysler Dodge Jeep Ram of Walla WallaÂ Â Â Â ...</td>\n",
       "      <td>NaN</td>\n",
       "      <td>wa</td>\n",
       "      <td>46.0783</td>\n",
       "      <td>-118.293</td>\n",
       "    </tr>\n",
       "    <tr>\n",
       "      <th>19999</th>\n",
       "      <td>19999</td>\n",
       "      <td>7049042761</td>\n",
       "      <td>https://kpr.craigslist.org/ctd/d/yakima-2017-t...</td>\n",
       "      <td>kennewick-pasco-richland</td>\n",
       "      <td>https://kpr.craigslist.org</td>\n",
       "      <td>14661</td>\n",
       "      <td>2017.0</td>\n",
       "      <td>toyota</td>\n",
       "      <td>corolla</td>\n",
       "      <td>NaN</td>\n",
       "      <td>...</td>\n",
       "      <td>fwd</td>\n",
       "      <td>NaN</td>\n",
       "      <td>sedan</td>\n",
       "      <td>NaN</td>\n",
       "      <td>https://images.craigslist.org/00P0P_94PZlFJECu...</td>\n",
       "      <td>Bud Clary Toyota of YakimaÂ Â Â Â Â Â Â Â STOC...</td>\n",
       "      <td>NaN</td>\n",
       "      <td>wa</td>\n",
       "      <td>46.5642</td>\n",
       "      <td>-120.496</td>\n",
       "    </tr>\n",
       "    <tr>\n",
       "      <th>20000</th>\n",
       "      <td>20000</td>\n",
       "      <td>7049039610</td>\n",
       "      <td>https://kpr.craigslist.org/ctd/d/pasco-2019-to...</td>\n",
       "      <td>kennewick-pasco-richland</td>\n",
       "      <td>https://kpr.craigslist.org</td>\n",
       "      <td>35999</td>\n",
       "      <td>2019.0</td>\n",
       "      <td>toyota</td>\n",
       "      <td>4runner sr5 4x4 gas suv</td>\n",
       "      <td>NaN</td>\n",
       "      <td>...</td>\n",
       "      <td>4wd</td>\n",
       "      <td>NaN</td>\n",
       "      <td>SUV</td>\n",
       "      <td>black</td>\n",
       "      <td>https://images.craigslist.org/00T0T_eOxdWaPYL3...</td>\n",
       "      <td>Call or Text 509-412-3404  2019 Toyota 4Runner...</td>\n",
       "      <td>NaN</td>\n",
       "      <td>wa</td>\n",
       "      <td>46.2348</td>\n",
       "      <td>-119.128</td>\n",
       "    </tr>\n",
       "  </tbody>\n",
       "</table>\n",
       "<p>20001 rows × 26 columns</p>\n",
       "</div>"
      ],
      "text/plain": [
       "       Unnamed: 0          id  \\\n",
       "0               0  7034441763   \n",
       "1               1  7034440610   \n",
       "2               2  7034440588   \n",
       "3               3  7034440546   \n",
       "4               4  7034406932   \n",
       "...           ...         ...   \n",
       "19996       19996  7049052853   \n",
       "19997       19997  7049052797   \n",
       "19998       19998  7049049369   \n",
       "19999       19999  7049042761   \n",
       "20000       20000  7049039610   \n",
       "\n",
       "                                                     url  \\\n",
       "0      https://saltlakecity.craigslist.org/cto/d/salt...   \n",
       "1      https://saltlakecity.craigslist.org/ctd/d/sand...   \n",
       "2      https://saltlakecity.craigslist.org/ctd/d/sand...   \n",
       "3      https://saltlakecity.craigslist.org/ctd/d/sand...   \n",
       "4      https://saltlakecity.craigslist.org/ctd/d/evan...   \n",
       "...                                                  ...   \n",
       "19996  https://kpr.craigslist.org/ctd/d/pasco-diesels...   \n",
       "19997  https://kpr.craigslist.org/ctd/d/yakima-2018-n...   \n",
       "19998  https://kpr.craigslist.org/ctd/d/walla-walla-2...   \n",
       "19999  https://kpr.craigslist.org/ctd/d/yakima-2017-t...   \n",
       "20000  https://kpr.craigslist.org/ctd/d/pasco-2019-to...   \n",
       "\n",
       "                         region                           region_url  price  \\\n",
       "0                salt lake city  https://saltlakecity.craigslist.org  17899   \n",
       "1                salt lake city  https://saltlakecity.craigslist.org      0   \n",
       "2                salt lake city  https://saltlakecity.craigslist.org  46463   \n",
       "3                salt lake city  https://saltlakecity.craigslist.org      0   \n",
       "4                salt lake city  https://saltlakecity.craigslist.org  49999   \n",
       "...                         ...                                  ...    ...   \n",
       "19996  kennewick-pasco-richland           https://kpr.craigslist.org  49999   \n",
       "19997  kennewick-pasco-richland           https://kpr.craigslist.org  12127   \n",
       "19998  kennewick-pasco-richland           https://kpr.craigslist.org      0   \n",
       "19999  kennewick-pasco-richland           https://kpr.craigslist.org  14661   \n",
       "20000  kennewick-pasco-richland           https://kpr.craigslist.org  35999   \n",
       "\n",
       "         year manufacturer                    model  condition  ... drive  \\\n",
       "0      2012.0   volkswagen                   golf r  excellent  ...   4wd   \n",
       "1      2016.0         ford                    f-150  excellent  ...   4wd   \n",
       "2      2015.0          gmc              sierra 1500  excellent  ...   4wd   \n",
       "3      2016.0         ford                    f-150  excellent  ...   4wd   \n",
       "4      2018.0         ford                    f-450        NaN  ...   4wd   \n",
       "...       ...          ...                      ...        ...  ...   ...   \n",
       "19996  2016.0          ram      cummin 2500 laramie        NaN  ...   4wd   \n",
       "19997  2018.0       nissan                   sentra        NaN  ...   fwd   \n",
       "19998  2019.0         jeep   grand cherokee limited        NaN  ...   4wd   \n",
       "19999  2017.0       toyota                  corolla        NaN  ...   fwd   \n",
       "20000  2019.0       toyota  4runner sr5 4x4 gas suv        NaN  ...   4wd   \n",
       "\n",
       "          size       type paint_color  \\\n",
       "0      compact  hatchback       black   \n",
       "1          NaN        NaN         NaN   \n",
       "2          NaN        NaN       white   \n",
       "3          NaN        NaN         NaN   \n",
       "4          NaN     pickup       white   \n",
       "...        ...        ...         ...   \n",
       "19996      NaN      truck        grey   \n",
       "19997      NaN      sedan         NaN   \n",
       "19998      NaN        SUV         NaN   \n",
       "19999      NaN      sedan         NaN   \n",
       "20000      NaN        SUV       black   \n",
       "\n",
       "                                               image_url  \\\n",
       "0      https://images.craigslist.org/00G0G_fTLDWM5Xyv...   \n",
       "1      https://images.craigslist.org/00v0v_7Cu0buIofU...   \n",
       "2      https://images.craigslist.org/01515_lPvJ9bfbdY...   \n",
       "3      https://images.craigslist.org/00T0T_6Rjfp3NS4O...   \n",
       "4      https://images.craigslist.org/00W0W_8yIUwRBXXd...   \n",
       "...                                                  ...   \n",
       "19996  https://images.craigslist.org/00h0h_d5xQ6Q7Ygd...   \n",
       "19997  https://images.craigslist.org/00Y0Y_cuQ8XIP5R4...   \n",
       "19998  https://images.craigslist.org/00h0h_gvXVsydGQd...   \n",
       "19999  https://images.craigslist.org/00P0P_94PZlFJECu...   \n",
       "20000  https://images.craigslist.org/00T0T_eOxdWaPYL3...   \n",
       "\n",
       "                                             description county state  \\\n",
       "0      PRICE REDUCED!   -Garage kept -Low Miles (63K)...    NaN    ut   \n",
       "1      Drive it home today. Call (Or Text) us now !!C...    NaN    ut   \n",
       "2      Drive it home today. Call (Or Text) us now !!C...    NaN    ut   \n",
       "3      Drive it home today. Call (Or Text) us now !!C...    NaN    ut   \n",
       "4      2018 Ford F-350 F350 F 350 SD Lariat Crew Cab ...    NaN    ut   \n",
       "...                                                  ...    ...   ...   \n",
       "19996  Call or Text 509-412-3404  2016 Dodge Ram 2500...    NaN    wa   \n",
       "19997  Bud Clary Toyota of YakimaÂ Â Â Â Â Â Â Â STOC...    NaN    wa   \n",
       "19998  Chrysler Dodge Jeep Ram of Walla WallaÂ Â Â Â ...    NaN    wa   \n",
       "19999  Bud Clary Toyota of YakimaÂ Â Â Â Â Â Â Â STOC...    NaN    wa   \n",
       "20000  Call or Text 509-412-3404  2019 Toyota 4Runner...    NaN    wa   \n",
       "\n",
       "           lat     long  \n",
       "0      40.7372 -111.858  \n",
       "1      40.5881 -111.884  \n",
       "2      40.5881 -111.884  \n",
       "3      40.5881 -111.884  \n",
       "4      40.3744 -104.694  \n",
       "...        ...      ...  \n",
       "19996  46.2348 -119.128  \n",
       "19997  46.5642 -120.496  \n",
       "19998  46.0783 -118.293  \n",
       "19999  46.5642 -120.496  \n",
       "20000  46.2348 -119.128  \n",
       "\n",
       "[20001 rows x 26 columns]"
      ]
     },
     "metadata": {},
     "output_type": "display_data"
    }
   ],
   "source": [
    "display(df)"
   ]
  },
  {
   "cell_type": "code",
   "execution_count": 1,
   "metadata": {},
   "outputs": [
    {
     "ename": "NameError",
     "evalue": "name 'df' is not defined",
     "output_type": "error",
     "traceback": [
      "\u001b[1;31m---------------------------------------------------------------------------\u001b[0m",
      "\u001b[1;31mNameError\u001b[0m                                 Traceback (most recent call last)",
      "\u001b[1;32m<ipython-input-1-a74c58233b9e>\u001b[0m in \u001b[0;36m<module>\u001b[1;34m\u001b[0m\n\u001b[1;32m----> 1\u001b[1;33m \u001b[0mdf\u001b[0m\u001b[1;33m.\u001b[0m\u001b[0minfo\u001b[0m\u001b[1;33m(\u001b[0m\u001b[1;33m)\u001b[0m\u001b[1;33m\u001b[0m\u001b[1;33m\u001b[0m\u001b[0m\n\u001b[0m",
      "\u001b[1;31mNameError\u001b[0m: name 'df' is not defined"
     ]
    }
   ],
   "source": [
    "df.info()"
   ]
  },
  {
   "cell_type": "code",
   "execution_count": 2,
   "metadata": {},
   "outputs": [
    {
     "ename": "NameError",
     "evalue": "name 'df' is not defined",
     "output_type": "error",
     "traceback": [
      "\u001b[1;31m---------------------------------------------------------------------------\u001b[0m",
      "\u001b[1;31mNameError\u001b[0m                                 Traceback (most recent call last)",
      "\u001b[1;32m<ipython-input-2-5ebdd141db6b>\u001b[0m in \u001b[0;36m<module>\u001b[1;34m\u001b[0m\n\u001b[1;32m----> 1\u001b[1;33m \u001b[0mdf\u001b[0m\u001b[1;33m=\u001b[0m\u001b[0mdf\u001b[0m\u001b[1;33m.\u001b[0m\u001b[0mdrop\u001b[0m\u001b[1;33m(\u001b[0m\u001b[0mcolumns\u001b[0m\u001b[1;33m=\u001b[0m\u001b[1;33m[\u001b[0m\u001b[1;34m'Unnamed: 0'\u001b[0m\u001b[1;33m,\u001b[0m\u001b[1;34m'county'\u001b[0m\u001b[1;33m,\u001b[0m\u001b[1;34m'description'\u001b[0m\u001b[1;33m,\u001b[0m\u001b[1;34m'image_url'\u001b[0m\u001b[1;33m,\u001b[0m\u001b[1;34m'url'\u001b[0m\u001b[1;33m,\u001b[0m\u001b[1;34m'region_url'\u001b[0m\u001b[1;33m,\u001b[0m\u001b[1;34m'model'\u001b[0m\u001b[1;33m,\u001b[0m\u001b[1;34m'lat'\u001b[0m\u001b[1;33m,\u001b[0m\u001b[1;34m'long'\u001b[0m\u001b[1;33m,\u001b[0m\u001b[1;34m'vin'\u001b[0m\u001b[1;33m]\u001b[0m\u001b[1;33m)\u001b[0m\u001b[1;33m\u001b[0m\u001b[1;33m\u001b[0m\u001b[0m\n\u001b[0m\u001b[0;32m      2\u001b[0m \u001b[0mdf\u001b[0m\u001b[1;33m.\u001b[0m\u001b[0mhead\u001b[0m\u001b[1;33m(\u001b[0m\u001b[1;36m5\u001b[0m\u001b[1;33m)\u001b[0m\u001b[1;33m\u001b[0m\u001b[1;33m\u001b[0m\u001b[0m\n",
      "\u001b[1;31mNameError\u001b[0m: name 'df' is not defined"
     ]
    }
   ],
   "source": [
    "df=df.drop(columns=['Unnamed: 0','county','description','image_url','url','region_url','model','lat','long','vin'])\n",
    "df.head(5)"
   ]
  },
  {
   "cell_type": "code",
   "execution_count": 7,
   "metadata": {},
   "outputs": [],
   "source": [
    "df['state'] = [0 if x == 'va' else 1 for x in df['state']]\n",
    "\n",
    "X=df.drop('state',1)\n",
    "y=df.state"
   ]
  },
  {
   "cell_type": "code",
   "execution_count": 8,
   "metadata": {},
   "outputs": [
    {
     "name": "stdout",
     "output_type": "stream",
     "text": [
      "0    hatchback\n",
      "1          NaN\n",
      "2          NaN\n",
      "3          NaN\n",
      "4       pickup\n",
      "Name: type, dtype: object\n"
     ]
    }
   ],
   "source": [
    "print(X['type'].head(5))"
   ]
  },
  {
   "cell_type": "code",
   "execution_count": 9,
   "metadata": {},
   "outputs": [
    {
     "data": {
      "text/plain": [
       "<bound method NDFrame.head of size            13115\n",
       "condition        9152\n",
       "cylinders        7085\n",
       "paint_color      5514\n",
       "drive            4642\n",
       "type             3659\n",
       "odometer         2389\n",
       "manufacturer      705\n",
       "transmission      190\n",
       "title_status      110\n",
       "fuel               73\n",
       "year               12\n",
       "id                  0\n",
       "region              0\n",
       "price               0\n",
       "dtype: int64>"
      ]
     },
     "execution_count": 9,
     "metadata": {},
     "output_type": "execute_result"
    }
   ],
   "source": [
    "X.isnull().sum().sort_values(ascending=False).head"
   ]
  },
  {
   "cell_type": "code",
   "execution_count": 10,
   "metadata": {},
   "outputs": [
    {
     "name": "stdout",
     "output_type": "stream",
     "text": [
      "    diesel  gas  other\n",
      "0        0    1      0\n",
      "1        0    1      0\n",
      "2        0    1      0\n",
      "3        0    1      0\n",
      "4        1    0      0\n",
      "5        0    1      0\n",
      "6        1    0      0\n",
      "7        0    1      0\n",
      "8        0    1      0\n",
      "9        1    0      0\n",
      "10       0    1      0\n",
      "11       0    0      1\n",
      "12       0    1      0\n",
      "13       0    1      0\n",
      "14       1    0      0\n"
     ]
    }
   ],
   "source": [
    "print(pd.get_dummies(X['fuel'].head(15)))"
   ]
  },
  {
   "cell_type": "code",
   "execution_count": 11,
   "metadata": {},
   "outputs": [
    {
     "name": "stdout",
     "output_type": "stream",
     "text": [
      "feature 'region' has '17' categories\n",
      "feature 'manufacturer' has '41' categories\n",
      "feature 'condition' has '7' categories\n",
      "feature 'cylinders' has '9' categories\n",
      "feature 'fuel' has '6' categories\n",
      "feature 'title_status' has '7' categories\n",
      "feature 'transmission' has '4' categories\n",
      "feature 'drive' has '4' categories\n",
      "feature 'size' has '5' categories\n",
      "feature 'type' has '14' categories\n",
      "feature 'paint_color' has '13' categories\n"
     ]
    }
   ],
   "source": [
    "for col_name in X.columns:\n",
    "    if X[col_name].dtypes == 'object':\n",
    "        unique_cat=len(X[col_name].unique())\n",
    "        print(\"feature '{col_name}' has '{unique_cat}' categories\".format(col_name=col_name\n",
    "                                                                          ,unique_cat=unique_cat))"
   ]
  },
  {
   "cell_type": "code",
   "execution_count": 12,
   "metadata": {},
   "outputs": [],
   "source": [
    "todummy_list=['region','manufacturer','condition','cylinders','fuel','title_status'\n",
    "              ,'transmission','drive','size','type','paint_color']"
   ]
  },
  {
   "cell_type": "code",
   "execution_count": 13,
   "metadata": {},
   "outputs": [],
   "source": [
    "def dummy_df(df,todummy_list):\n",
    "    for X in todummy_list:\n",
    "        dummies = pd.get_dummies(df[X],prefix=X, dummy_na=False)\n",
    "        df = df.drop(X,1)\n",
    "        df= pd.concat([df,dummies], axis=1)\n",
    "    return df"
   ]
  },
  {
   "cell_type": "code",
   "execution_count": 14,
   "metadata": {},
   "outputs": [
    {
     "data": {
      "text/html": [
       "<div>\n",
       "<style scoped>\n",
       "    .dataframe tbody tr th:only-of-type {\n",
       "        vertical-align: middle;\n",
       "    }\n",
       "\n",
       "    .dataframe tbody tr th {\n",
       "        vertical-align: top;\n",
       "    }\n",
       "\n",
       "    .dataframe thead th {\n",
       "        text-align: right;\n",
       "    }\n",
       "</style>\n",
       "<table border=\"1\" class=\"dataframe\">\n",
       "  <thead>\n",
       "    <tr style=\"text-align: right;\">\n",
       "      <th></th>\n",
       "      <th>id</th>\n",
       "      <th>price</th>\n",
       "      <th>year</th>\n",
       "      <th>odometer</th>\n",
       "      <th>region_bellingham</th>\n",
       "      <th>region_charlottesville</th>\n",
       "      <th>region_danville</th>\n",
       "      <th>region_fredericksburg</th>\n",
       "      <th>region_harrisonburg</th>\n",
       "      <th>region_kennewick-pasco-richland</th>\n",
       "      <th>...</th>\n",
       "      <th>paint_color_brown</th>\n",
       "      <th>paint_color_custom</th>\n",
       "      <th>paint_color_green</th>\n",
       "      <th>paint_color_grey</th>\n",
       "      <th>paint_color_orange</th>\n",
       "      <th>paint_color_purple</th>\n",
       "      <th>paint_color_red</th>\n",
       "      <th>paint_color_silver</th>\n",
       "      <th>paint_color_white</th>\n",
       "      <th>paint_color_yellow</th>\n",
       "    </tr>\n",
       "  </thead>\n",
       "  <tbody>\n",
       "    <tr>\n",
       "      <th>0</th>\n",
       "      <td>7034441763</td>\n",
       "      <td>17899</td>\n",
       "      <td>2012.0</td>\n",
       "      <td>63500.0</td>\n",
       "      <td>0</td>\n",
       "      <td>0</td>\n",
       "      <td>0</td>\n",
       "      <td>0</td>\n",
       "      <td>0</td>\n",
       "      <td>0</td>\n",
       "      <td>...</td>\n",
       "      <td>0</td>\n",
       "      <td>0</td>\n",
       "      <td>0</td>\n",
       "      <td>0</td>\n",
       "      <td>0</td>\n",
       "      <td>0</td>\n",
       "      <td>0</td>\n",
       "      <td>0</td>\n",
       "      <td>0</td>\n",
       "      <td>0</td>\n",
       "    </tr>\n",
       "    <tr>\n",
       "      <th>1</th>\n",
       "      <td>7034440610</td>\n",
       "      <td>0</td>\n",
       "      <td>2016.0</td>\n",
       "      <td>10.0</td>\n",
       "      <td>0</td>\n",
       "      <td>0</td>\n",
       "      <td>0</td>\n",
       "      <td>0</td>\n",
       "      <td>0</td>\n",
       "      <td>0</td>\n",
       "      <td>...</td>\n",
       "      <td>0</td>\n",
       "      <td>0</td>\n",
       "      <td>0</td>\n",
       "      <td>0</td>\n",
       "      <td>0</td>\n",
       "      <td>0</td>\n",
       "      <td>0</td>\n",
       "      <td>0</td>\n",
       "      <td>0</td>\n",
       "      <td>0</td>\n",
       "    </tr>\n",
       "    <tr>\n",
       "      <th>2</th>\n",
       "      <td>7034440588</td>\n",
       "      <td>46463</td>\n",
       "      <td>2015.0</td>\n",
       "      <td>7554.0</td>\n",
       "      <td>0</td>\n",
       "      <td>0</td>\n",
       "      <td>0</td>\n",
       "      <td>0</td>\n",
       "      <td>0</td>\n",
       "      <td>0</td>\n",
       "      <td>...</td>\n",
       "      <td>0</td>\n",
       "      <td>0</td>\n",
       "      <td>0</td>\n",
       "      <td>0</td>\n",
       "      <td>0</td>\n",
       "      <td>0</td>\n",
       "      <td>0</td>\n",
       "      <td>0</td>\n",
       "      <td>1</td>\n",
       "      <td>0</td>\n",
       "    </tr>\n",
       "    <tr>\n",
       "      <th>3</th>\n",
       "      <td>7034440546</td>\n",
       "      <td>0</td>\n",
       "      <td>2016.0</td>\n",
       "      <td>10.0</td>\n",
       "      <td>0</td>\n",
       "      <td>0</td>\n",
       "      <td>0</td>\n",
       "      <td>0</td>\n",
       "      <td>0</td>\n",
       "      <td>0</td>\n",
       "      <td>...</td>\n",
       "      <td>0</td>\n",
       "      <td>0</td>\n",
       "      <td>0</td>\n",
       "      <td>0</td>\n",
       "      <td>0</td>\n",
       "      <td>0</td>\n",
       "      <td>0</td>\n",
       "      <td>0</td>\n",
       "      <td>0</td>\n",
       "      <td>0</td>\n",
       "    </tr>\n",
       "    <tr>\n",
       "      <th>4</th>\n",
       "      <td>7034406932</td>\n",
       "      <td>49999</td>\n",
       "      <td>2018.0</td>\n",
       "      <td>70150.0</td>\n",
       "      <td>0</td>\n",
       "      <td>0</td>\n",
       "      <td>0</td>\n",
       "      <td>0</td>\n",
       "      <td>0</td>\n",
       "      <td>0</td>\n",
       "      <td>...</td>\n",
       "      <td>0</td>\n",
       "      <td>0</td>\n",
       "      <td>0</td>\n",
       "      <td>0</td>\n",
       "      <td>0</td>\n",
       "      <td>0</td>\n",
       "      <td>0</td>\n",
       "      <td>0</td>\n",
       "      <td>1</td>\n",
       "      <td>0</td>\n",
       "    </tr>\n",
       "  </tbody>\n",
       "</table>\n",
       "<p>5 rows × 121 columns</p>\n",
       "</div>"
      ],
      "text/plain": [
       "           id  price    year  odometer  region_bellingham  \\\n",
       "0  7034441763  17899  2012.0   63500.0                  0   \n",
       "1  7034440610      0  2016.0      10.0                  0   \n",
       "2  7034440588  46463  2015.0    7554.0                  0   \n",
       "3  7034440546      0  2016.0      10.0                  0   \n",
       "4  7034406932  49999  2018.0   70150.0                  0   \n",
       "\n",
       "   region_charlottesville  region_danville  region_fredericksburg  \\\n",
       "0                       0                0                      0   \n",
       "1                       0                0                      0   \n",
       "2                       0                0                      0   \n",
       "3                       0                0                      0   \n",
       "4                       0                0                      0   \n",
       "\n",
       "   region_harrisonburg  region_kennewick-pasco-richland  ...  \\\n",
       "0                    0                                0  ...   \n",
       "1                    0                                0  ...   \n",
       "2                    0                                0  ...   \n",
       "3                    0                                0  ...   \n",
       "4                    0                                0  ...   \n",
       "\n",
       "   paint_color_brown  paint_color_custom  paint_color_green  paint_color_grey  \\\n",
       "0                  0                   0                  0                 0   \n",
       "1                  0                   0                  0                 0   \n",
       "2                  0                   0                  0                 0   \n",
       "3                  0                   0                  0                 0   \n",
       "4                  0                   0                  0                 0   \n",
       "\n",
       "   paint_color_orange  paint_color_purple  paint_color_red  \\\n",
       "0                   0                   0                0   \n",
       "1                   0                   0                0   \n",
       "2                   0                   0                0   \n",
       "3                   0                   0                0   \n",
       "4                   0                   0                0   \n",
       "\n",
       "   paint_color_silver  paint_color_white  paint_color_yellow  \n",
       "0                   0                  0                   0  \n",
       "1                   0                  0                   0  \n",
       "2                   0                  1                   0  \n",
       "3                   0                  0                   0  \n",
       "4                   0                  1                   0  \n",
       "\n",
       "[5 rows x 121 columns]"
      ]
     },
     "execution_count": 14,
     "metadata": {},
     "output_type": "execute_result"
    }
   ],
   "source": [
    "X = dummy_df(X,todummy_list)\n",
    "X.head(5)"
   ]
  },
  {
   "cell_type": "code",
   "execution_count": 15,
   "metadata": {},
   "outputs": [
    {
     "data": {
      "text/plain": [
       "<bound method NDFrame.head of odometer                        2389\n",
       "year                              12\n",
       "id                                 0\n",
       "fuel_gas                           0\n",
       "drive_4wd                          0\n",
       "                                ... \n",
       "manufacturer_hyundai               0\n",
       "manufacturer_honda                 0\n",
       "manufacturer_harley-davidson       0\n",
       "manufacturer_gmc                   0\n",
       "paint_color_yellow                 0\n",
       "Length: 121, dtype: int64>"
      ]
     },
     "execution_count": 15,
     "metadata": {},
     "output_type": "execute_result"
    }
   ],
   "source": [
    "X.isnull().sum().sort_values(ascending=False).head"
   ]
  },
  {
   "cell_type": "code",
   "execution_count": 16,
   "metadata": {},
   "outputs": [],
   "source": [
    "from sklearn.impute import SimpleImputer \n",
    "\n",
    "imp= SimpleImputer(missing_values=np.nan, strategy='median')\n",
    "imp.fit(X)\n",
    "X= pd.DataFrame(data=imp.transform(X), columns=X.columns)"
   ]
  },
  {
   "cell_type": "code",
   "execution_count": 17,
   "metadata": {},
   "outputs": [
    {
     "data": {
      "text/plain": [
       "<bound method NDFrame.head of id                              0\n",
       "condition_excellent             0\n",
       "drive_4wd                       0\n",
       "transmission_other              0\n",
       "transmission_manual             0\n",
       "                               ..\n",
       "manufacturer_honda              0\n",
       "manufacturer_harley-davidson    0\n",
       "manufacturer_gmc                0\n",
       "manufacturer_ford               0\n",
       "paint_color_yellow              0\n",
       "Length: 121, dtype: int64>"
      ]
     },
     "execution_count": 17,
     "metadata": {},
     "output_type": "execute_result"
    }
   ],
   "source": [
    "X.isnull().sum().sort_values(ascending=False).head"
   ]
  },
  {
   "cell_type": "code",
   "execution_count": 18,
   "metadata": {},
   "outputs": [],
   "source": [
    "#outlier detection via turkey IQR\n",
    "\n",
    "def find_outliers_turkey(x):\n",
    "    q1=np.percentile(x,25)\n",
    "    q3=np.percentile(x,75)\n",
    "    iqr = q3-q1\n",
    "    floor = q1 - (0.15*iqr)\n",
    "    ceiling = q3 + (0.15*iqr)\n",
    "    outliers_indices= list(x.index[(x<floor)|(x>ceiling)])\n",
    "    outliers_values = list(x[outliers_indices])\n",
    "    \n",
    "    return outliers_indices,outliers_values"
   ]
  },
  {
   "cell_type": "code",
   "execution_count": 19,
   "metadata": {},
   "outputs": [
    {
     "name": "stdout",
     "output_type": "stream",
     "text": [
      "[7.03259745e+09 7.03260471e+09 7.03261255e+09 ... 7.05009672e+09\n",
      " 7.05009924e+09 7.05010062e+09]\n"
     ]
    }
   ],
   "source": [
    "turkey_indices,turkey_values=find_outliers_turkey(X['id'])\n",
    "print(np.sort(turkey_values))"
   ]
  },
  {
   "cell_type": "code",
   "execution_count": 20,
   "metadata": {},
   "outputs": [],
   "source": [
    "def plot_histogram(x):\n",
    "    plt.hist(x, color='gray' , alpha=0.5)\n",
    "    plt.title('test')\n",
    "    plt.xlabel('value')\n",
    "    plt.ylabel('freq')\n",
    "    plt.show()"
   ]
  },
  {
   "cell_type": "code",
   "execution_count": 21,
   "metadata": {},
   "outputs": [
    {
     "data": {
      "image/png": "[encoded data removed]",
      "text/plain": [
       "<Figure size 432x288 with 1 Axes>"
      ]
     },
     "metadata": {
      "needs_background": "light"
     },
     "output_type": "display_data"
    }
   ],
   "source": [
    "plot_histogram(X['id'])"
   ]
  },
  {
   "cell_type": "code",
   "execution_count": 22,
   "metadata": {},
   "outputs": [],
   "source": [
    "def plot_histogram_dv(x,y):\n",
    "    plt.hist(list(x[y==0]), alpha=0.5, label='DV=0')\n",
    "    plt.hist(list(x[y==1]), alpha=0.5, label='DV=1')\n",
    "    plt.title('test')\n",
    "    plt.xlabel('value')\n",
    "    plt.ylabel('freq')\n",
    "    plt.show()"
   ]
  },
  {
   "cell_type": "code",
   "execution_count": 23,
   "metadata": {},
   "outputs": [
    {
     "data": {
      "image/png": "[encoded data removed]",
      "text/plain": [
       "<Figure size 432x288 with 1 Axes>"
      ]
     },
     "metadata": {
      "needs_background": "light"
     },
     "output_type": "display_data"
    }
   ],
   "source": [
    "plot_histogram_dv(X['id'],y)"
   ]
  },
  {
   "cell_type": "code",
   "execution_count": 24,
   "metadata": {},
   "outputs": [],
   "source": [
    "#feature engineering\n",
    "\n",
    "from itertools import combinations\n",
    "from sklearn.preprocessing import PolynomialFeatures\n",
    "\n",
    "def add_interaction(df):\n",
    "    combos = list(combinations(list(df.columns),2))\n",
    "    colnames = list(df.columns) + ['_'.join(x) for x in combos]\n",
    "    \n",
    "    poly = PolynomialFeatures(interaction_only = True, include_bias = False)\n",
    "    df = poly.fit_transform(df)\n",
    "    df = pd.DataFrame(df)\n",
    "    df.columns = colnames\n",
    "    \n",
    "    noint_indicies = [i for i, x in enumerate(list((df == 0).all())) if x]\n",
    "    df = df.drop(df.columns[noint_indicies], axis = 1)\n",
    "    return df"
   ]
  },
  {
   "cell_type": "code",
   "execution_count": 25,
   "metadata": {},
   "outputs": [
    {
     "name": "stdout",
     "output_type": "stream",
     "text": [
      "             id    price    year  odometer  region_bellingham  \\\n",
      "0  7.034442e+09  17899.0  2012.0   63500.0                0.0   \n",
      "1  7.034441e+09      0.0  2016.0      10.0                0.0   \n",
      "2  7.034441e+09  46463.0  2015.0    7554.0                0.0   \n",
      "3  7.034441e+09      0.0  2016.0      10.0                0.0   \n",
      "4  7.034407e+09  49999.0  2018.0   70150.0                0.0   \n",
      "\n",
      "   region_charlottesville  region_danville  region_fredericksburg  \\\n",
      "0                     0.0              0.0                    0.0   \n",
      "1                     0.0              0.0                    0.0   \n",
      "2                     0.0              0.0                    0.0   \n",
      "3                     0.0              0.0                    0.0   \n",
      "4                     0.0              0.0                    0.0   \n",
      "\n",
      "   region_harrisonburg  region_kennewick-pasco-richland  ...  \\\n",
      "0                  0.0                              0.0  ...   \n",
      "1                  0.0                              0.0  ...   \n",
      "2                  0.0                              0.0  ...   \n",
      "3                  0.0                              0.0  ...   \n",
      "4                  0.0                              0.0  ...   \n",
      "\n",
      "   type_wagon_paint_color_blue  type_wagon_paint_color_brown  \\\n",
      "0                          0.0                           0.0   \n",
      "1                          0.0                           0.0   \n",
      "2                          0.0                           0.0   \n",
      "3                          0.0                           0.0   \n",
      "4                          0.0                           0.0   \n",
      "\n",
      "   type_wagon_paint_color_custom  type_wagon_paint_color_green  \\\n",
      "0                            0.0                           0.0   \n",
      "1                            0.0                           0.0   \n",
      "2                            0.0                           0.0   \n",
      "3                            0.0                           0.0   \n",
      "4                            0.0                           0.0   \n",
      "\n",
      "   type_wagon_paint_color_grey  type_wagon_paint_color_orange  \\\n",
      "0                          0.0                            0.0   \n",
      "1                          0.0                            0.0   \n",
      "2                          0.0                            0.0   \n",
      "3                          0.0                            0.0   \n",
      "4                          0.0                            0.0   \n",
      "\n",
      "   type_wagon_paint_color_red  type_wagon_paint_color_silver  \\\n",
      "0                         0.0                            0.0   \n",
      "1                         0.0                            0.0   \n",
      "2                         0.0                            0.0   \n",
      "3                         0.0                            0.0   \n",
      "4                         0.0                            0.0   \n",
      "\n",
      "   type_wagon_paint_color_white  type_wagon_paint_color_yellow  \n",
      "0                           0.0                            0.0  \n",
      "1                           0.0                            0.0  \n",
      "2                           0.0                            0.0  \n",
      "3                           0.0                            0.0  \n",
      "4                           0.0                            0.0  \n",
      "\n",
      "[5 rows x 4661 columns]\n"
     ]
    }
   ],
   "source": [
    "X = add_interaction(X)\n",
    "print(X.head(5))"
   ]
  },
  {
   "cell_type": "code",
   "execution_count": 26,
   "metadata": {},
   "outputs": [],
   "source": [
    "from sklearn.model_selection import train_test_split\n",
    "\n",
    "X_train, X_test, y_train, y_test = train_test_split(X,y, train_size = 0.70, random_state=1)"
   ]
  },
  {
   "cell_type": "code",
   "execution_count": 27,
   "metadata": {},
   "outputs": [
    {
     "name": "stdout",
     "output_type": "stream",
     "text": [
      "(20001, 16)\n",
      "(20001, 4661)\n"
     ]
    }
   ],
   "source": [
    "print(df.shape)\n",
    "print(X.shape)"
   ]
  },
  {
   "cell_type": "code",
   "execution_count": 28,
   "metadata": {},
   "outputs": [
    {
     "name": "stderr",
     "output_type": "stream",
     "text": [
      "/home/baniraaisu/anaconda3/lib/python3.8/site-packages/sklearn/feature_selection/_univariate_selection.py:114: UserWarning: Features [  11  131  250  367  484  649  663  702  718  805  818  847  852  862\n",
      "  903  911  955 1038 1071 1080 1084 1206 1207 1208 1209 1210 1211 1212\n",
      " 1213 1226 1231 1234 1239 1250 1271 1287 1387 1399 1419 1523 1526 1539\n",
      " 1553 1571 1577 1581 1586 1588 1589 1608 1627 1635 1642 1648 1652 1656\n",
      " 1672 1709 1720 1757 1783 1828 1843 1891 1895 1906 1907 1916 1919 1930\n",
      " 1934 1968 2003 2012 2017 2027 2031 2057 2104 2185 2199 2259 2278 2283\n",
      " 2284 2296 2323 2398 2421 2422 2445 2447 2460 2467 2468 2469 2473 2476\n",
      " 2478 2480 2483 2485 2543 2553 2585 2588 2593 2639 2642 2676 2771 2787\n",
      " 2797 2814 2852 2924 2927 2962 2995 3010 3031 3061 3062 3070 3096 3134\n",
      " 3153 3163 3170 3171 3178 3247 3252 3283 3363 3379 3396 3564 3633 3635\n",
      " 3644 3657 3670 3674 3683 3709 3795 3815 3867 3907 3924 4037 4048 4092\n",
      " 4163 4168 4172 4182 4185 4188 4189 4190 4193 4213 4221 4237 4421 4519\n",
      " 4567 4587 4597 4634 4645] are constant.\n",
      "  warnings.warn(\"Features %s are constant.\" % constant_features_idx,\n",
      "/home/baniraaisu/anaconda3/lib/python3.8/site-packages/sklearn/feature_selection/_univariate_selection.py:116: RuntimeWarning: invalid value encountered in true_divide\n",
      "  f = msb / msw\n"
     ]
    }
   ],
   "source": [
    "import sklearn.feature_selection\n",
    "\n",
    "select = sklearn.feature_selection.SelectKBest(k=20)\n",
    "selected_features = select.fit(X_train,y_train)\n",
    "indices_selected= selected_features.get_support(indices=True)\n",
    "colnames_selected = [X.columns[i] for i in indices_selected]\n",
    "\n",
    "X_train_selected = X_train[colnames_selected]\n",
    "X_test_selected = X_test[colnames_selected]"
   ]
  },
  {
   "cell_type": "code",
   "execution_count": 29,
   "metadata": {},
   "outputs": [
    {
     "data": {
      "text/plain": [
       "['region_bellingham',\n",
       " 'region_richmond',\n",
       " 'region_vermont',\n",
       " 'id_region_bellingham',\n",
       " 'id_region_richmond',\n",
       " 'id_region_vermont',\n",
       " 'price_region_bellingham',\n",
       " 'year_region_bellingham',\n",
       " 'year_region_vermont',\n",
       " 'odometer_region_bellingham',\n",
       " 'odometer_region_vermont',\n",
       " 'region_bellingham_fuel_gas',\n",
       " 'region_bellingham_title_status_clean',\n",
       " 'region_bellingham_transmission_automatic',\n",
       " 'region_bellingham_drive_4wd',\n",
       " 'region_vermont_condition_excellent',\n",
       " 'region_vermont_fuel_gas',\n",
       " 'region_vermont_title_status_clean',\n",
       " 'region_vermont_transmission_automatic',\n",
       " 'region_vermont_drive_4wd']"
      ]
     },
     "execution_count": 29,
     "metadata": {},
     "output_type": "execute_result"
    }
   ],
   "source": [
    "colnames_selected\n"
   ]
  },
  {
   "cell_type": "code",
   "execution_count": 30,
   "metadata": {},
   "outputs": [],
   "source": [
    "df.to_csv('Classification.csv')"
   ]
  },
  {
   "cell_type": "code",
   "execution_count": 31,
   "metadata": {},
   "outputs": [],
   "source": [
    "#Classification Modelling using Logistic Regression and Support Vector Machine\n",
    "from sklearn.linear_model import LogisticRegression\n",
    "from sklearn.metrics import roc_auc_score,classification_report,confusion_matrix\n",
    "from sklearn.svm import SVC\n",
    "\n",
    "def find_model_pref(X_train,y_train,X_test,y_test):\n",
    "    model = LogisticRegression()\n",
    "    model.fit(X_train,y_train)\n",
    "    y_hat = [x[1] for x in model.predict_proba(X_test)]\n",
    "    auc = roc_auc_score(y_test,y_hat)\n",
    "    return auc\n",
    "\n"
   ]
  },
  {
   "cell_type": "code",
   "execution_count": 32,
   "metadata": {},
   "outputs": [
    {
     "data": {
      "text/plain": [
       "SVC()"
      ]
     },
     "execution_count": 32,
     "metadata": {},
     "output_type": "execute_result"
    }
   ],
   "source": [
    "auc_processed = find_model_pref(X_train_selected,y_train,X_test_selected,y_test)\n",
    "\n",
    "vecmach = SVC()\n",
    "vecmach.fit(X_train_selected,y_train)"
   ]
  },
  {
   "cell_type": "code",
   "execution_count": 36,
   "metadata": {},
   "outputs": [
    {
     "data": {
      "text/plain": [
       "array([0, 0, 1, ..., 0, 0, 0])"
      ]
     },
     "execution_count": 36,
     "metadata": {},
     "output_type": "execute_result"
    }
   ],
   "source": [
    "predict=vecmach.predict(X_test_selected)"
   ]
  },
  {
   "cell_type": "code",
   "execution_count": 37,
   "metadata": {},
   "outputs": [
    {
     "name": "stdout",
     "output_type": "stream",
     "text": [
      "SVM Reports with Confusion Matrix\n",
      "[[3854    0]\n",
      " [ 344 1803]]\n",
      "\n",
      "\n",
      "              precision    recall  f1-score   support\n",
      "\n",
      "           0       0.92      1.00      0.96      3854\n",
      "           1       1.00      0.84      0.91      2147\n",
      "\n",
      "    accuracy                           0.94      6001\n",
      "   macro avg       0.96      0.92      0.94      6001\n",
      "weighted avg       0.95      0.94      0.94      6001\n",
      "\n"
     ]
    }
   ],
   "source": [
    "print('SVM Reports with Confusion Matrix')\n",
    "print(confusion_matrix(y_test,predict))\n",
    "print('\\n')\n",
    "print(classification_report(y_test,predict))\n",
    "\n",
    "\n",
    "\n"
   ]
  },
  {
   "cell_type": "code",
   "execution_count": 38,
   "metadata": {},
   "outputs": [
    {
     "name": "stdout",
     "output_type": "stream",
     "text": [
      "Logistic Regression Accuracy\n",
      "0.9381389027399475\n"
     ]
    }
   ],
   "source": [
    "print('Logistic Regression Accuracy')\n",
    "print(auc_processed)"
   ]
  },
  {
   "cell_type": "code",
   "execution_count": 45,
   "metadata": {},
   "outputs": [
    {
     "data": {
      "image/png": "[encoded data removed]",
      "text/plain": [
       "<Figure size 432x288 with 2 Axes>"
      ]
     },
     "metadata": {
      "needs_background": "light"
     },
     "output_type": "display_data"
    }
   ],
   "source": [
    "labels = [\"True Neg\",\"False Pos\",\"False Neg\",\"True Pos\"]\n",
    "labels = np.asarray(labels).reshape(2,2)\n",
    "conf_svc = confusion_matrix(y_test,predict)\n",
    "ax = sns.heatmap(conf_svc, annot=labels, fmt=\"\")"
   ]
  },
  {
   "cell_type": "code",
   "execution_count": 46,
   "metadata": {},
   "outputs": [
    {
     "name": "stdout",
     "output_type": "stream",
     "text": [
      "(20001, 16)\n",
      "(4353, 16)\n"
     ]
    }
   ],
   "source": [
    "#Accuracy between processed and unprocessed data\n",
    "df_unprocessed = df\n",
    "df_unprocessed = df_unprocessed.dropna(axis = 0, how='any')\n",
    "print(df.shape)\n",
    "print(df_unprocessed.shape)"
   ]
  },
  {
   "cell_type": "code",
   "execution_count": 47,
   "metadata": {},
   "outputs": [],
   "source": [
    "for col_name in df_unprocessed.columns:\n",
    "    if df_unprocessed[col_name].dtypes not in ['int32','int64','float32','float64']:\n",
    "        df_unprocessed = df_unprocessed.drop(col_name,1)\n"
   ]
  },
  {
   "cell_type": "code",
   "execution_count": 48,
   "metadata": {},
   "outputs": [],
   "source": [
    "#splitting unprocessed data to features and outcomes\n",
    "\n",
    "X_unprocessed = df_unprocessed.drop('state',1)\n",
    "y_unprocessed = df_unprocessed.state"
   ]
  },
  {
   "cell_type": "code",
   "execution_count": 49,
   "metadata": {},
   "outputs": [
    {
     "data": {
      "text/html": [
       "<div>\n",
       "<style scoped>\n",
       "    .dataframe tbody tr th:only-of-type {\n",
       "        vertical-align: middle;\n",
       "    }\n",
       "\n",
       "    .dataframe tbody tr th {\n",
       "        vertical-align: top;\n",
       "    }\n",
       "\n",
       "    .dataframe thead th {\n",
       "        text-align: right;\n",
       "    }\n",
       "</style>\n",
       "<table border=\"1\" class=\"dataframe\">\n",
       "  <thead>\n",
       "    <tr style=\"text-align: right;\">\n",
       "      <th></th>\n",
       "      <th>id</th>\n",
       "      <th>price</th>\n",
       "      <th>year</th>\n",
       "      <th>odometer</th>\n",
       "    </tr>\n",
       "  </thead>\n",
       "  <tbody>\n",
       "    <tr>\n",
       "      <th>0</th>\n",
       "      <td>7034441763</td>\n",
       "      <td>17899</td>\n",
       "      <td>2012.0</td>\n",
       "      <td>63500.0</td>\n",
       "    </tr>\n",
       "    <tr>\n",
       "      <th>24</th>\n",
       "      <td>7034278551</td>\n",
       "      <td>4600</td>\n",
       "      <td>2008.0</td>\n",
       "      <td>110982.0</td>\n",
       "    </tr>\n",
       "    <tr>\n",
       "      <th>48</th>\n",
       "      <td>7033720842</td>\n",
       "      <td>28000</td>\n",
       "      <td>2004.0</td>\n",
       "      <td>67348.0</td>\n",
       "    </tr>\n",
       "    <tr>\n",
       "      <th>57</th>\n",
       "      <td>7033598937</td>\n",
       "      <td>2500</td>\n",
       "      <td>2004.0</td>\n",
       "      <td>129000.0</td>\n",
       "    </tr>\n",
       "    <tr>\n",
       "      <th>109</th>\n",
       "      <td>7050078672</td>\n",
       "      <td>12000</td>\n",
       "      <td>2015.0</td>\n",
       "      <td>65000.0</td>\n",
       "    </tr>\n",
       "  </tbody>\n",
       "</table>\n",
       "</div>"
      ],
      "text/plain": [
       "             id  price    year  odometer\n",
       "0    7034441763  17899  2012.0   63500.0\n",
       "24   7034278551   4600  2008.0  110982.0\n",
       "48   7033720842  28000  2004.0   67348.0\n",
       "57   7033598937   2500  2004.0  129000.0\n",
       "109  7050078672  12000  2015.0   65000.0"
      ]
     },
     "execution_count": 49,
     "metadata": {},
     "output_type": "execute_result"
    }
   ],
   "source": [
    "X_unprocessed.head(5)"
   ]
  },
  {
   "cell_type": "code",
   "execution_count": 50,
   "metadata": {},
   "outputs": [
    {
     "data": {
      "text/plain": [
       "SVC()"
      ]
     },
     "execution_count": 50,
     "metadata": {},
     "output_type": "execute_result"
    }
   ],
   "source": [
    "X_train_unprocessed, X_test_unprocessed, y_train, y_test = train_test_split(X_unprocessed,y_unprocessed, train_size = 0.70, random_state=1)\n",
    "auc_unprocessed = find_model_pref(X_train_unprocessed,y_train, X_test_unprocessed , y_test)\n",
    "\n",
    "vecmach_unprocessed = SVC()\n",
    "vecmach_unprocessed.fit(X_train_unprocessed,y_train)"
   ]
  },
  {
   "cell_type": "code",
   "execution_count": 51,
   "metadata": {},
   "outputs": [],
   "source": [
    "\n",
    "predict_unprocessed=vecmach_unprocessed.predict(X_test_unprocessed)"
   ]
  },
  {
   "cell_type": "code",
   "execution_count": 52,
   "metadata": {},
   "outputs": [
    {
     "name": "stdout",
     "output_type": "stream",
     "text": [
      "SVM accuracy with raw data\n",
      "\n",
      "\n",
      "[[825   0]\n",
      " [481   0]]\n",
      "\n",
      "\n",
      "              precision    recall  f1-score   support\n",
      "\n",
      "           0       0.63      1.00      0.77       825\n",
      "           1       0.00      0.00      0.00       481\n",
      "\n",
      "    accuracy                           0.63      1306\n",
      "   macro avg       0.32      0.50      0.39      1306\n",
      "weighted avg       0.40      0.63      0.49      1306\n",
      "\n"
     ]
    },
    {
     "name": "stderr",
     "output_type": "stream",
     "text": [
      "/home/baniraaisu/anaconda3/lib/python3.8/site-packages/sklearn/metrics/_classification.py:1245: UndefinedMetricWarning: Precision and F-score are ill-defined and being set to 0.0 in labels with no predicted samples. Use `zero_division` parameter to control this behavior.\n",
      "  _warn_prf(average, modifier, msg_start, len(result))\n",
      "/home/baniraaisu/anaconda3/lib/python3.8/site-packages/sklearn/metrics/_classification.py:1245: UndefinedMetricWarning: Precision and F-score are ill-defined and being set to 0.0 in labels with no predicted samples. Use `zero_division` parameter to control this behavior.\n",
      "  _warn_prf(average, modifier, msg_start, len(result))\n",
      "/home/baniraaisu/anaconda3/lib/python3.8/site-packages/sklearn/metrics/_classification.py:1245: UndefinedMetricWarning: Precision and F-score are ill-defined and being set to 0.0 in labels with no predicted samples. Use `zero_division` parameter to control this behavior.\n",
      "  _warn_prf(average, modifier, msg_start, len(result))\n"
     ]
    }
   ],
   "source": [
    "print('SVM accuracy with raw data')\n",
    "print('\\n')\n",
    "print(confusion_matrix(y_test,predict_unprocessed))\n",
    "print('\\n')\n",
    "print(classification_report(y_test,predict_unprocessed))\n"
   ]
  },
  {
   "cell_type": "code",
   "execution_count": 53,
   "metadata": {},
   "outputs": [
    {
     "name": "stdout",
     "output_type": "stream",
     "text": [
      "Logistic linear with raw data\n",
      "0.5436603036603037\n"
     ]
    }
   ],
   "source": [
    "print('Logistic linear with raw data')\n",
    "print(auc_unprocessed)"
   ]
  },
  {
   "cell_type": "code",
   "execution_count": 54,
   "metadata": {},
   "outputs": [
    {
     "data": {
      "image/png": "[encoded data removed]",
      "text/plain": [
       "<Figure size 432x288 with 2 Axes>"
      ]
     },
     "metadata": {
      "needs_background": "light"
     },
     "output_type": "display_data"
    }
   ],
   "source": [
    "labels = [\"True Neg\",\"False Pos\",\"False Neg\",\"True Pos\"]\n",
    "labels = np.asarray(labels).reshape(2,2)\n",
    "conf_svc_unprocessed = confusion_matrix(y_test,predict_unprocessed)\n",
    "ax = sns.heatmap(conf_svc_unprocessed, annot=labels, fmt=\"\")"
   ]
  },
  {
   "cell_type": "code",
   "execution_count": null,
   "metadata": {},
   "outputs": [],
   "source": []
  }
 ],
 "metadata": {
  "kernelspec": {
   "display_name": "Python 3",
   "language": "python",
   "name": "python3"
  },
  "language_info": {
   "codemirror_mode": {
    "name": "ipython",
    "version": 3
   },
   "file_extension": ".py",
   "mimetype": "text/x-python",
   "name": "python",
   "nbconvert_exporter": "python",
   "pygments_lexer": "ipython3",
   "version": "3.8.8"
  }
 },
 "nbformat": 4,
 "nbformat_minor": 4
}
