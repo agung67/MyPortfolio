{
 "cells": [
  {
   "cell_type": "code",
   "execution_count": 47,
   "metadata": {},
   "outputs": [],
   "source": [
    "import pandas as pd\n",
    "from collections import Counter\n",
    "from sklearn.model_selection import train_test_split\n",
    "from sklearn.metrics import roc_auc_score,classification_report,confusion_matrix\n",
    "from sklearn.feature_selection import SelectKBest\n",
    "from sklearn.feature_selection import chi2"
   ]
  },
  {
   "cell_type": "code",
   "execution_count": 48,
   "metadata": {},
   "outputs": [],
   "source": [
    "df = pd.read_csv('dataframe.csv')"
   ]
  },
  {
   "cell_type": "code",
   "execution_count": 49,
   "metadata": {},
   "outputs": [
    {
     "data": {
      "text/html": [
       "<div>\n",
       "<style scoped>\n",
       "    .dataframe tbody tr th:only-of-type {\n",
       "        vertical-align: middle;\n",
       "    }\n",
       "\n",
       "    .dataframe tbody tr th {\n",
       "        vertical-align: top;\n",
       "    }\n",
       "\n",
       "    .dataframe thead th {\n",
       "        text-align: right;\n",
       "    }\n",
       "</style>\n",
       "<table border=\"1\" class=\"dataframe\">\n",
       "  <thead>\n",
       "    <tr style=\"text-align: right;\">\n",
       "      <th></th>\n",
       "      <th>Unnamed: 0</th>\n",
       "      <th>tweetid</th>\n",
       "      <th>user_statuses_count</th>\n",
       "      <th>user_friends_count</th>\n",
       "      <th>user_followers_count</th>\n",
       "      <th>user_account_age</th>\n",
       "      <th>favorite_count</th>\n",
       "      <th>retweet_count</th>\n",
       "      <th>week</th>\n",
       "      <th>class</th>\n",
       "    </tr>\n",
       "  </thead>\n",
       "  <tbody>\n",
       "    <tr>\n",
       "      <th>0</th>\n",
       "      <td>0</td>\n",
       "      <td>1401948148004687873</td>\n",
       "      <td>51125</td>\n",
       "      <td>439</td>\n",
       "      <td>6839</td>\n",
       "      <td>11.164384</td>\n",
       "      <td>3</td>\n",
       "      <td>0</td>\n",
       "      <td>1</td>\n",
       "      <td>0</td>\n",
       "    </tr>\n",
       "    <tr>\n",
       "      <th>1</th>\n",
       "      <td>1</td>\n",
       "      <td>1401947685964468230</td>\n",
       "      <td>5133</td>\n",
       "      <td>917</td>\n",
       "      <td>69500</td>\n",
       "      <td>12.246575</td>\n",
       "      <td>5</td>\n",
       "      <td>2</td>\n",
       "      <td>1</td>\n",
       "      <td>1</td>\n",
       "    </tr>\n",
       "    <tr>\n",
       "      <th>2</th>\n",
       "      <td>2</td>\n",
       "      <td>1401946752652021762</td>\n",
       "      <td>2039</td>\n",
       "      <td>456</td>\n",
       "      <td>1653</td>\n",
       "      <td>0.147945</td>\n",
       "      <td>10</td>\n",
       "      <td>0</td>\n",
       "      <td>1</td>\n",
       "      <td>0</td>\n",
       "    </tr>\n",
       "    <tr>\n",
       "      <th>3</th>\n",
       "      <td>3</td>\n",
       "      <td>1401946734373318657</td>\n",
       "      <td>8082</td>\n",
       "      <td>452</td>\n",
       "      <td>1068</td>\n",
       "      <td>8.520548</td>\n",
       "      <td>8</td>\n",
       "      <td>5</td>\n",
       "      <td>1</td>\n",
       "      <td>1</td>\n",
       "    </tr>\n",
       "    <tr>\n",
       "      <th>4</th>\n",
       "      <td>4</td>\n",
       "      <td>1401946551921041412</td>\n",
       "      <td>132631</td>\n",
       "      <td>3856</td>\n",
       "      <td>8945</td>\n",
       "      <td>8.016438</td>\n",
       "      <td>3</td>\n",
       "      <td>3</td>\n",
       "      <td>1</td>\n",
       "      <td>1</td>\n",
       "    </tr>\n",
       "    <tr>\n",
       "      <th>...</th>\n",
       "      <td>...</td>\n",
       "      <td>...</td>\n",
       "      <td>...</td>\n",
       "      <td>...</td>\n",
       "      <td>...</td>\n",
       "      <td>...</td>\n",
       "      <td>...</td>\n",
       "      <td>...</td>\n",
       "      <td>...</td>\n",
       "      <td>...</td>\n",
       "    </tr>\n",
       "    <tr>\n",
       "      <th>7495</th>\n",
       "      <td>2495</td>\n",
       "      <td>1412176145915813892</td>\n",
       "      <td>74041</td>\n",
       "      <td>508</td>\n",
       "      <td>249</td>\n",
       "      <td>0.509589</td>\n",
       "      <td>0</td>\n",
       "      <td>27</td>\n",
       "      <td>3</td>\n",
       "      <td>1</td>\n",
       "    </tr>\n",
       "    <tr>\n",
       "      <th>7496</th>\n",
       "      <td>2496</td>\n",
       "      <td>1412176133592961024</td>\n",
       "      <td>6619</td>\n",
       "      <td>1838</td>\n",
       "      <td>998</td>\n",
       "      <td>9.230137</td>\n",
       "      <td>0</td>\n",
       "      <td>3</td>\n",
       "      <td>3</td>\n",
       "      <td>1</td>\n",
       "    </tr>\n",
       "    <tr>\n",
       "      <th>7497</th>\n",
       "      <td>2497</td>\n",
       "      <td>1412176071919771652</td>\n",
       "      <td>349</td>\n",
       "      <td>2</td>\n",
       "      <td>1</td>\n",
       "      <td>1.909589</td>\n",
       "      <td>0</td>\n",
       "      <td>0</td>\n",
       "      <td>3</td>\n",
       "      <td>0</td>\n",
       "    </tr>\n",
       "    <tr>\n",
       "      <th>7498</th>\n",
       "      <td>2498</td>\n",
       "      <td>1412176049312501760</td>\n",
       "      <td>8203</td>\n",
       "      <td>2760</td>\n",
       "      <td>2239</td>\n",
       "      <td>7.630137</td>\n",
       "      <td>108</td>\n",
       "      <td>0</td>\n",
       "      <td>3</td>\n",
       "      <td>0</td>\n",
       "    </tr>\n",
       "    <tr>\n",
       "      <th>7499</th>\n",
       "      <td>2499</td>\n",
       "      <td>1412176041750245377</td>\n",
       "      <td>251</td>\n",
       "      <td>0</td>\n",
       "      <td>2</td>\n",
       "      <td>0.284932</td>\n",
       "      <td>0</td>\n",
       "      <td>0</td>\n",
       "      <td>3</td>\n",
       "      <td>0</td>\n",
       "    </tr>\n",
       "  </tbody>\n",
       "</table>\n",
       "<p>7500 rows × 10 columns</p>\n",
       "</div>"
      ],
      "text/plain": [
       "      Unnamed: 0              tweetid  user_statuses_count  \\\n",
       "0              0  1401948148004687873                51125   \n",
       "1              1  1401947685964468230                 5133   \n",
       "2              2  1401946752652021762                 2039   \n",
       "3              3  1401946734373318657                 8082   \n",
       "4              4  1401946551921041412               132631   \n",
       "...          ...                  ...                  ...   \n",
       "7495        2495  1412176145915813892                74041   \n",
       "7496        2496  1412176133592961024                 6619   \n",
       "7497        2497  1412176071919771652                  349   \n",
       "7498        2498  1412176049312501760                 8203   \n",
       "7499        2499  1412176041750245377                  251   \n",
       "\n",
       "      user_friends_count  user_followers_count  user_account_age  \\\n",
       "0                    439                  6839         11.164384   \n",
       "1                    917                 69500         12.246575   \n",
       "2                    456                  1653          0.147945   \n",
       "3                    452                  1068          8.520548   \n",
       "4                   3856                  8945          8.016438   \n",
       "...                  ...                   ...               ...   \n",
       "7495                 508                   249          0.509589   \n",
       "7496                1838                   998          9.230137   \n",
       "7497                   2                     1          1.909589   \n",
       "7498                2760                  2239          7.630137   \n",
       "7499                   0                     2          0.284932   \n",
       "\n",
       "      favorite_count  retweet_count  week  class  \n",
       "0                  3              0     1      0  \n",
       "1                  5              2     1      1  \n",
       "2                 10              0     1      0  \n",
       "3                  8              5     1      1  \n",
       "4                  3              3     1      1  \n",
       "...              ...            ...   ...    ...  \n",
       "7495               0             27     3      1  \n",
       "7496               0              3     3      1  \n",
       "7497               0              0     3      0  \n",
       "7498             108              0     3      0  \n",
       "7499               0              0     3      0  \n",
       "\n",
       "[7500 rows x 10 columns]"
      ]
     },
     "execution_count": 49,
     "metadata": {},
     "output_type": "execute_result"
    }
   ],
   "source": [
    "df"
   ]
  },
  {
   "cell_type": "code",
   "execution_count": 50,
   "metadata": {},
   "outputs": [],
   "source": [
    "df=df.drop(\"Unnamed: 0\",axis=1)"
   ]
  },
  {
   "cell_type": "code",
   "execution_count": 51,
   "metadata": {},
   "outputs": [
    {
     "data": {
      "text/html": [
       "<div>\n",
       "<style scoped>\n",
       "    .dataframe tbody tr th:only-of-type {\n",
       "        vertical-align: middle;\n",
       "    }\n",
       "\n",
       "    .dataframe tbody tr th {\n",
       "        vertical-align: top;\n",
       "    }\n",
       "\n",
       "    .dataframe thead th {\n",
       "        text-align: right;\n",
       "    }\n",
       "</style>\n",
       "<table border=\"1\" class=\"dataframe\">\n",
       "  <thead>\n",
       "    <tr style=\"text-align: right;\">\n",
       "      <th></th>\n",
       "      <th>tweetid</th>\n",
       "      <th>user_statuses_count</th>\n",
       "      <th>user_friends_count</th>\n",
       "      <th>user_followers_count</th>\n",
       "      <th>user_account_age</th>\n",
       "      <th>favorite_count</th>\n",
       "      <th>retweet_count</th>\n",
       "      <th>week</th>\n",
       "      <th>class</th>\n",
       "    </tr>\n",
       "  </thead>\n",
       "  <tbody>\n",
       "    <tr>\n",
       "      <th>0</th>\n",
       "      <td>1401948148004687873</td>\n",
       "      <td>51125</td>\n",
       "      <td>439</td>\n",
       "      <td>6839</td>\n",
       "      <td>11.164384</td>\n",
       "      <td>3</td>\n",
       "      <td>0</td>\n",
       "      <td>1</td>\n",
       "      <td>0</td>\n",
       "    </tr>\n",
       "    <tr>\n",
       "      <th>1</th>\n",
       "      <td>1401947685964468230</td>\n",
       "      <td>5133</td>\n",
       "      <td>917</td>\n",
       "      <td>69500</td>\n",
       "      <td>12.246575</td>\n",
       "      <td>5</td>\n",
       "      <td>2</td>\n",
       "      <td>1</td>\n",
       "      <td>1</td>\n",
       "    </tr>\n",
       "    <tr>\n",
       "      <th>2</th>\n",
       "      <td>1401946752652021762</td>\n",
       "      <td>2039</td>\n",
       "      <td>456</td>\n",
       "      <td>1653</td>\n",
       "      <td>0.147945</td>\n",
       "      <td>10</td>\n",
       "      <td>0</td>\n",
       "      <td>1</td>\n",
       "      <td>0</td>\n",
       "    </tr>\n",
       "    <tr>\n",
       "      <th>3</th>\n",
       "      <td>1401946734373318657</td>\n",
       "      <td>8082</td>\n",
       "      <td>452</td>\n",
       "      <td>1068</td>\n",
       "      <td>8.520548</td>\n",
       "      <td>8</td>\n",
       "      <td>5</td>\n",
       "      <td>1</td>\n",
       "      <td>1</td>\n",
       "    </tr>\n",
       "    <tr>\n",
       "      <th>4</th>\n",
       "      <td>1401946551921041412</td>\n",
       "      <td>132631</td>\n",
       "      <td>3856</td>\n",
       "      <td>8945</td>\n",
       "      <td>8.016438</td>\n",
       "      <td>3</td>\n",
       "      <td>3</td>\n",
       "      <td>1</td>\n",
       "      <td>1</td>\n",
       "    </tr>\n",
       "    <tr>\n",
       "      <th>...</th>\n",
       "      <td>...</td>\n",
       "      <td>...</td>\n",
       "      <td>...</td>\n",
       "      <td>...</td>\n",
       "      <td>...</td>\n",
       "      <td>...</td>\n",
       "      <td>...</td>\n",
       "      <td>...</td>\n",
       "      <td>...</td>\n",
       "    </tr>\n",
       "    <tr>\n",
       "      <th>7495</th>\n",
       "      <td>1412176145915813892</td>\n",
       "      <td>74041</td>\n",
       "      <td>508</td>\n",
       "      <td>249</td>\n",
       "      <td>0.509589</td>\n",
       "      <td>0</td>\n",
       "      <td>27</td>\n",
       "      <td>3</td>\n",
       "      <td>1</td>\n",
       "    </tr>\n",
       "    <tr>\n",
       "      <th>7496</th>\n",
       "      <td>1412176133592961024</td>\n",
       "      <td>6619</td>\n",
       "      <td>1838</td>\n",
       "      <td>998</td>\n",
       "      <td>9.230137</td>\n",
       "      <td>0</td>\n",
       "      <td>3</td>\n",
       "      <td>3</td>\n",
       "      <td>1</td>\n",
       "    </tr>\n",
       "    <tr>\n",
       "      <th>7497</th>\n",
       "      <td>1412176071919771652</td>\n",
       "      <td>349</td>\n",
       "      <td>2</td>\n",
       "      <td>1</td>\n",
       "      <td>1.909589</td>\n",
       "      <td>0</td>\n",
       "      <td>0</td>\n",
       "      <td>3</td>\n",
       "      <td>0</td>\n",
       "    </tr>\n",
       "    <tr>\n",
       "      <th>7498</th>\n",
       "      <td>1412176049312501760</td>\n",
       "      <td>8203</td>\n",
       "      <td>2760</td>\n",
       "      <td>2239</td>\n",
       "      <td>7.630137</td>\n",
       "      <td>108</td>\n",
       "      <td>0</td>\n",
       "      <td>3</td>\n",
       "      <td>0</td>\n",
       "    </tr>\n",
       "    <tr>\n",
       "      <th>7499</th>\n",
       "      <td>1412176041750245377</td>\n",
       "      <td>251</td>\n",
       "      <td>0</td>\n",
       "      <td>2</td>\n",
       "      <td>0.284932</td>\n",
       "      <td>0</td>\n",
       "      <td>0</td>\n",
       "      <td>3</td>\n",
       "      <td>0</td>\n",
       "    </tr>\n",
       "  </tbody>\n",
       "</table>\n",
       "<p>7500 rows × 9 columns</p>\n",
       "</div>"
      ],
      "text/plain": [
       "                  tweetid  user_statuses_count  user_friends_count  \\\n",
       "0     1401948148004687873                51125                 439   \n",
       "1     1401947685964468230                 5133                 917   \n",
       "2     1401946752652021762                 2039                 456   \n",
       "3     1401946734373318657                 8082                 452   \n",
       "4     1401946551921041412               132631                3856   \n",
       "...                   ...                  ...                 ...   \n",
       "7495  1412176145915813892                74041                 508   \n",
       "7496  1412176133592961024                 6619                1838   \n",
       "7497  1412176071919771652                  349                   2   \n",
       "7498  1412176049312501760                 8203                2760   \n",
       "7499  1412176041750245377                  251                   0   \n",
       "\n",
       "      user_followers_count  user_account_age  favorite_count  retweet_count  \\\n",
       "0                     6839         11.164384               3              0   \n",
       "1                    69500         12.246575               5              2   \n",
       "2                     1653          0.147945              10              0   \n",
       "3                     1068          8.520548               8              5   \n",
       "4                     8945          8.016438               3              3   \n",
       "...                    ...               ...             ...            ...   \n",
       "7495                   249          0.509589               0             27   \n",
       "7496                   998          9.230137               0              3   \n",
       "7497                     1          1.909589               0              0   \n",
       "7498                  2239          7.630137             108              0   \n",
       "7499                     2          0.284932               0              0   \n",
       "\n",
       "      week  class  \n",
       "0        1      0  \n",
       "1        1      1  \n",
       "2        1      0  \n",
       "3        1      1  \n",
       "4        1      1  \n",
       "...    ...    ...  \n",
       "7495     3      1  \n",
       "7496     3      1  \n",
       "7497     3      0  \n",
       "7498     3      0  \n",
       "7499     3      0  \n",
       "\n",
       "[7500 rows x 9 columns]"
      ]
     },
     "execution_count": 51,
     "metadata": {},
     "output_type": "execute_result"
    }
   ],
   "source": [
    "df.iloc[0:,0:9]"
   ]
  },
  {
   "cell_type": "code",
   "execution_count": 60,
   "metadata": {},
   "outputs": [],
   "source": [
    "X = df.iloc[0:,1:8]\n",
    "y = df.iloc[:,-1]"
   ]
  },
  {
   "cell_type": "code",
   "execution_count": 89,
   "metadata": {},
   "outputs": [
    {
     "data": {
      "text/plain": [
       "0"
      ]
     },
     "execution_count": 89,
     "metadata": {},
     "output_type": "execute_result"
    }
   ],
   "source": [
    "y[2]"
   ]
  },
  {
   "cell_type": "code",
   "execution_count": 92,
   "metadata": {},
   "outputs": [],
   "source": [
    "cl0=0\n",
    "cl1=0\n",
    "cl2=0\n",
    "cl3=0\n",
    "for i in range(len(y)):\n",
    "        if y[i]==0:\n",
    "            cl0=cl0+1\n",
    "        elif y[i]==1:\n",
    "            cl1=cl1+1\n",
    "        elif y[i]==2:\n",
    "            cl2=cl2+1\n",
    "        elif y[i]==3:\n",
    "            cl3=cl3+1"
   ]
  },
  {
   "cell_type": "code",
   "execution_count": 95,
   "metadata": {},
   "outputs": [
    {
     "name": "stdout",
     "output_type": "stream",
     "text": [
      "Class 0 = 3315 Class 1 = 3054 Class 2 = 629 Class 3 = 502\n"
     ]
    }
   ],
   "source": [
    "print('Class 0 =',cl0,'Class 1 =',cl1,'Class 2 =',cl2,'Class 3 =',cl3)"
   ]
  },
  {
   "cell_type": "code",
   "execution_count": 64,
   "metadata": {},
   "outputs": [
    {
     "name": "stdout",
     "output_type": "stream",
     "text": [
      "[0.08950573 0.07840443 0.0731687  0.06065326 0.05341593 0.62092804\n",
      " 0.02392391]\n"
     ]
    },
    {
     "data": {
      "image/png": "[encoded data removed]",
      "text/plain": [
       "<Figure size 432x288 with 1 Axes>"
      ]
     },
     "metadata": {
      "needs_background": "light"
     },
     "output_type": "display_data"
    }
   ],
   "source": [
    "from sklearn.ensemble import ExtraTreesClassifier\n",
    "import matplotlib.pyplot as plt\n",
    "model = ExtraTreesClassifier()\n",
    "model.fit(X,y)\n",
    "print(model.feature_importances_)\n",
    "feat_importances = pd.Series(model.feature_importances_, index=X.columns)\n",
    "feat_importances.nlargest(4).plot(kind='barh')\n",
    "plt.show()"
   ]
  },
  {
   "cell_type": "code",
   "execution_count": 65,
   "metadata": {},
   "outputs": [],
   "source": [
    "X_train, X_test, y_train, y_test = train_test_split(X, y, train_size = 0.70, random_state = 0)"
   ]
  },
  {
   "cell_type": "code",
   "execution_count": 66,
   "metadata": {},
   "outputs": [],
   "source": [
    "from sklearn.naive_bayes import GaussianNB\n",
    "gnb = GaussianNB().fit(X_train, y_train)\n",
    "gnb_predictions = gnb.predict(X_test)"
   ]
  },
  {
   "cell_type": "code",
   "execution_count": 67,
   "metadata": {},
   "outputs": [
    {
     "name": "stdout",
     "output_type": "stream",
     "text": [
      "0.7844444444444445\n"
     ]
    }
   ],
   "source": [
    "accuracy = gnb.score(X_test, y_test)\n",
    "print(accuracy)"
   ]
  },
  {
   "cell_type": "code",
   "execution_count": 68,
   "metadata": {},
   "outputs": [
    {
     "name": "stdout",
     "output_type": "stream",
     "text": [
      "              precision    recall  f1-score   support\n",
      "\n",
      "           0       0.70      0.98      0.81      1034\n",
      "           1       0.95      0.49      0.65       900\n",
      "           2       0.91      0.96      0.94       179\n",
      "           3       0.98      0.99      0.99       137\n",
      "\n",
      "    accuracy                           0.78      2250\n",
      "   macro avg       0.88      0.86      0.85      2250\n",
      "weighted avg       0.83      0.78      0.77      2250\n",
      "\n"
     ]
    }
   ],
   "source": [
    "print(classification_report(y_test,gnb_predictions))"
   ]
  },
  {
   "cell_type": "code",
   "execution_count": 69,
   "metadata": {},
   "outputs": [
    {
     "name": "stdout",
     "output_type": "stream",
     "text": [
      "[[1014   20    0    0]\n",
      " [ 442  443   15    0]\n",
      " [   0    4  172    3]\n",
      " [   0    0    1  136]]\n"
     ]
    }
   ],
   "source": [
    "print(confusion_matrix(y_test,\n",
    "                       gnb_predictions))"
   ]
  },
  {
   "cell_type": "code",
   "execution_count": 70,
   "metadata": {},
   "outputs": [
    {
     "name": "stdout",
     "output_type": "stream",
     "text": [
      "Original class:  Counter({0: 2281, 1: 2154, 2: 450, 3: 365})\n"
     ]
    }
   ],
   "source": [
    "print(\"Original class: \", Counter(y_train))"
   ]
  },
  {
   "cell_type": "code",
   "execution_count": 71,
   "metadata": {},
   "outputs": [],
   "source": [
    "\n",
    "from imblearn.under_sampling import RandomUnderSampler\n",
    "undersample = RandomUnderSampler(sampling_strategy='majority')"
   ]
  },
  {
   "cell_type": "code",
   "execution_count": 72,
   "metadata": {},
   "outputs": [],
   "source": [
    "X_train_under, y_train_under = undersample.fit_resample(X_train, y_train)"
   ]
  },
  {
   "cell_type": "code",
   "execution_count": 73,
   "metadata": {},
   "outputs": [
    {
     "name": "stdout",
     "output_type": "stream",
     "text": [
      "After undersampling:  Counter({1: 2154, 2: 450, 0: 365, 3: 365})\n"
     ]
    }
   ],
   "source": [
    "\n",
    "print(\"After undersampling: \", Counter(y_train_under))"
   ]
  },
  {
   "cell_type": "code",
   "execution_count": 74,
   "metadata": {},
   "outputs": [],
   "source": [
    "from sklearn.naive_bayes import GaussianNB\n",
    "gnb = GaussianNB().fit(X_train_under, y_train_under)\n",
    "gnb_predictions = gnb.predict(X_test)"
   ]
  },
  {
   "cell_type": "code",
   "execution_count": 75,
   "metadata": {},
   "outputs": [
    {
     "name": "stdout",
     "output_type": "stream",
     "text": [
      "              precision    recall  f1-score   support\n",
      "\n",
      "           0       0.71      0.97      0.82      1034\n",
      "           1       0.94      0.53      0.68       900\n",
      "           2       0.91      0.96      0.94       179\n",
      "           3       0.98      0.99      0.99       137\n",
      "\n",
      "    accuracy                           0.80      2250\n",
      "   macro avg       0.89      0.86      0.86      2250\n",
      "weighted avg       0.84      0.80      0.78      2250\n",
      "\n"
     ]
    }
   ],
   "source": [
    "\n",
    "print(classification_report(y_test,gnb_predictions))"
   ]
  },
  {
   "cell_type": "code",
   "execution_count": 76,
   "metadata": {},
   "outputs": [
    {
     "name": "stdout",
     "output_type": "stream",
     "text": [
      "After oversampling:  Counter({3: 2281, 0: 2281, 1: 2281, 2: 2281})\n"
     ]
    }
   ],
   "source": [
    "from imblearn.over_sampling import SMOTE\n",
    "SMOTE = SMOTE()\n",
    "X_train_SMOTE, y_train_SMOTE = SMOTE.fit_resample(X_train, y_train)\n",
    "print(\"After oversampling: \",Counter(y_train_SMOTE))"
   ]
  },
  {
   "cell_type": "code",
   "execution_count": 77,
   "metadata": {},
   "outputs": [],
   "source": [
    "from sklearn.naive_bayes import GaussianNB\n",
    "gnb = GaussianNB().fit(X_train_SMOTE, y_train_SMOTE)\n",
    "gnb_predictions = gnb.predict(X_test)"
   ]
  },
  {
   "cell_type": "code",
   "execution_count": 79,
   "metadata": {},
   "outputs": [
    {
     "name": "stdout",
     "output_type": "stream",
     "text": [
      "              precision    recall  f1-score   support\n",
      "\n",
      "           0       0.70      0.98      0.81      1034\n",
      "           1       0.95      0.47      0.63       900\n",
      "           2       0.85      0.98      0.91       179\n",
      "           3       0.96      0.99      0.97       137\n",
      "\n",
      "    accuracy                           0.78      2250\n",
      "   macro avg       0.86      0.86      0.83      2250\n",
      "weighted avg       0.83      0.78      0.76      2250\n",
      "\n"
     ]
    }
   ],
   "source": [
    "print(classification_report(y_test,gnb_predictions))"
   ]
  },
  {
   "cell_type": "code",
   "execution_count": 96,
   "metadata": {},
   "outputs": [
    {
     "name": "stdout",
     "output_type": "stream",
     "text": [
      "After oversampling:  Counter({0: 365, 1: 365, 2: 365, 3: 365})\n"
     ]
    }
   ],
   "source": [
    "from imblearn.under_sampling import RandomUnderSampler\n",
    "under = RandomUnderSampler()\n",
    "X_train_under, y_train_under = under.fit_resample(X_train, y_train)\n",
    "print(\"After oversampling: \",Counter(y_train_under))"
   ]
  },
  {
   "cell_type": "code",
   "execution_count": 83,
   "metadata": {},
   "outputs": [],
   "source": [
    "from sklearn.naive_bayes import GaussianNB\n",
    "gnb = GaussianNB().fit(X_train_under, y_train_under)\n",
    "gnb_predictions = gnb.predict(X_test)"
   ]
  },
  {
   "cell_type": "code",
   "execution_count": 84,
   "metadata": {},
   "outputs": [
    {
     "name": "stdout",
     "output_type": "stream",
     "text": [
      "              precision    recall  f1-score   support\n",
      "\n",
      "           0       0.73      0.95      0.82      1034\n",
      "           1       0.91      0.54      0.67       900\n",
      "           2       0.83      0.98      0.90       179\n",
      "           3       0.86      0.99      0.92       137\n",
      "\n",
      "    accuracy                           0.79      2250\n",
      "   macro avg       0.83      0.86      0.83      2250\n",
      "weighted avg       0.82      0.79      0.78      2250\n",
      "\n"
     ]
    }
   ],
   "source": [
    "print(classification_report(y_test,gnb_predictions))"
   ]
  }
 ],
 "metadata": {
  "kernelspec": {
   "display_name": "Python 3",
   "language": "python",
   "name": "python3"
  },
  "language_info": {
   "codemirror_mode": {
    "name": "ipython",
    "version": 3
   },
   "file_extension": ".py",
   "mimetype": "text/x-python",
   "name": "python",
   "nbconvert_exporter": "python",
   "pygments_lexer": "ipython3",
   "version": "3.8.8"
  }
 },
 "nbformat": 4,
 "nbformat_minor": 4
}
